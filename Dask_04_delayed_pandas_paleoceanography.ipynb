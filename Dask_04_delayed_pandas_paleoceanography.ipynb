{
 "cells": [
  {
   "cell_type": "markdown",
   "metadata": {},
   "source": [
    "# Parallelize code with Dask Delayed"
   ]
  },
  {
   "cell_type": "markdown",
   "metadata": {},
   "source": [
    "In this notebook we demonstrate:\n",
    "\n",
    "* A few words about Panda\n",
    "* Reading CSV files using Delayed\n",
    "* A reading data example\n",
    "* Sequential code: Mean CO3 Per Core\n",
    "* Parallelize the sequential code using Dask delayed\n",
    "---"
   ]
  },
  {
   "cell_type": "markdown",
   "metadata": {},
   "source": [
    "- Authors: NCI Virtual Research Environment Team\n",
    "- Keywords: Dask, Delayed, Pandas, DataFrame\n",
    "- Create Date: 2020-April\n",
    "---"
   ]
  },
  {
   "cell_type": "markdown",
   "metadata": {},
   "source": [
    "### A few words about Pandas\n",
    "\n",
    "Pandas is a an open source library providing high-performance, easy-to-use data structures and data analysis tools. Pandas is particularly suited to the analysis of tabular data, i.e. data that can can go into a table. In other words, if you can imagine the data in an Excel spreadsheet, then Pandas is the tool for the job.\n",
    "\n",
    "Pandas are tools for reading and writing data between in-memory data structures and different formats: CSV and text files, Microsoft Excel, SQL databases, and the fast HDF5 format.\n",
    "\n",
    "Python with Pandas is in use in a wide variety of academic and commercial domains, including finance, neuroscience, economics, statistics, advertising, web analytics, and more."
   ]
  },
  {
   "cell_type": "markdown",
   "metadata": {},
   "source": [
    "Choose from the following two options to create a client:"
   ]
  },
  {
   "cell_type": "code",
   "execution_count": 1,
   "metadata": {
    "scrolled": true
   },
   "outputs": [
    {
     "name": "stderr",
     "output_type": "stream",
     "text": [
      "/apps/dask/2.19.0-py3.7/lib/python3.7/site-packages/distributed/node.py:155: UserWarning: Port 8787 is already in use.\n",
      "Perhaps you already have a cluster running?\n",
      "Hosting the HTTP server on port 39867 instead\n",
      "  http_address[\"port\"], self.http_server.port\n"
     ]
    },
    {
     "name": "stdout",
     "output_type": "stream",
     "text": [
      "<Client: 'tcp://127.0.0.1:35125' processes=4 threads=8, memory=33.56 GB>\n"
     ]
    }
   ],
   "source": [
    "# If you run this notebook on your local computer or NCI's VDI instance, you can create cluster\n",
    "from dask.distributed import Client\n",
    "client = Client()\n",
    "print(client)"
   ]
  },
  {
   "cell_type": "code",
   "execution_count": 1,
   "metadata": {},
   "outputs": [
    {
     "name": "stdout",
     "output_type": "stream",
     "text": [
      "<Client: 'tcp://10.6.21.68:8773' processes=8 threads=48, memory=202.48 GB>\n"
     ]
    }
   ],
   "source": [
    "# If you run this notebook on Gadi under pangeo environment, you can create cluster using scheduler.json file\n",
    "from dask.distributed import Client, LocalCluster\n",
    "client = Client(scheduler_file='scheduler.json')\n",
    "print(client)"
   ]
  },
  {
   "cell_type": "markdown",
   "metadata": {},
   "source": [
    "<div class=\"alert alert-info\">\n",
    "<b>Warning: Please make sure you specify the correct path to the schedular.json file within your environment.</b>  \n",
    "</div>"
   ]
  },
  {
   "cell_type": "markdown",
   "metadata": {},
   "source": [
    "<div class=\"alert alert-warning\">\n",
    "<b>NOTE:</b> If you run this notebook on your local computer, make sure that your local computer has multiple cores. Otherwise, your parallel code won't perform any better than sequencial code! \n",
    "</div>"
   ]
  },
  {
   "cell_type": "markdown",
   "metadata": {},
   "source": [
    "Starting the Dask Client will provide a dashboard which is useful to gain insight into the computation. The link to the dashboard will become visible when you create the Client. We recommend having the Client open on one side of your screen and your notebook open on the other side, which will be useful for learning purposes."
   ]
  },
  {
   "cell_type": "markdown",
   "metadata": {},
   "source": [
    "## Scale up csv file reading using `delayed` \n",
    "\n",
    "We will apply `delayed` to a real data processing task, albeit a simple one.\n",
    "\n",
    "Consider reading three CSV files (found in `/g/data/dk92/notebooks/demo_data/CSV`) with `pd.read_csv` and then measuring their total length. We will consider how you would do this with ordinary Python code, then build a graph for this process using delayed, and finally execute this graph using Dask. The Dask execution provides a handy speed-up factor of more than two (there are only three inputs to parallelize over)."
   ]
  },
  {
   "cell_type": "code",
   "execution_count": 2,
   "metadata": {},
   "outputs": [
    {
     "data": {
      "text/plain": [
       "['/g/data/dk92/notebooks/demo_data/CSV/csvfile1.csv',\n",
       " '/g/data/dk92/notebooks/demo_data/CSV/csvfile2.csv',\n",
       " '/g/data/dk92/notebooks/demo_data/CSV/csvfile3.csv']"
      ]
     },
     "execution_count": 2,
     "metadata": {},
     "output_type": "execute_result"
    }
   ],
   "source": [
    "import pandas as pd\n",
    "import os\n",
    "from glob import glob\n",
    "from dask import delayed\n",
    "import numpy\n",
    "\n",
    "filenames = sorted(glob('/g/data/dk92/notebooks/demo_data/CSV/*.csv'))\n",
    "filenames"
   ]
  },
  {
   "cell_type": "code",
   "execution_count": 3,
   "metadata": {},
   "outputs": [
    {
     "name": "stdout",
     "output_type": "stream",
     "text": [
      "27\n",
      "CPU times: user 14.3 ms, sys: 0 ns, total: 14.3 ms\n",
      "Wall time: 151 ms\n"
     ]
    }
   ],
   "source": [
    "%%time\n",
    "\n",
    "# normal, sequential code\n",
    "a = pd.read_csv(filenames[0])\n",
    "b = pd.read_csv(filenames[1])\n",
    "c = pd.read_csv(filenames[2])\n",
    "\n",
    "na = len(a)\n",
    "nb = len(b)\n",
    "nc = len(c)\n",
    "\n",
    "total = sum([na, nb, nc])\n",
    "print(total)"
   ]
  },
  {
   "cell_type": "markdown",
   "metadata": {},
   "source": [
    "Your task is to recreate this graph using the `delayed` function on the original Python code. The three functions you want to delay are `pd.read_csv`, `len` and `sum`. "
   ]
  },
  {
   "cell_type": "code",
   "execution_count": 4,
   "metadata": {},
   "outputs": [
    {
     "name": "stdout",
     "output_type": "stream",
     "text": [
      "CPU times: user 1.2 ms, sys: 587 µs, total: 1.79 ms\n",
      "Wall time: 1.45 ms\n"
     ]
    },
    {
     "data": {
      "text/plain": [
       "Delayed('sum-c2bd7ac4-e9cc-4468-ad76-9f6f495cc8e6')"
      ]
     },
     "execution_count": 4,
     "metadata": {},
     "output_type": "execute_result"
    }
   ],
   "source": [
    "%%time\n",
    "\n",
    "# delayed, sequential code\n",
    "delayed_read_csv = delayed(pd.read_csv)\n",
    "a = delayed_read_csv(filenames[0])\n",
    "b = delayed_read_csv(filenames[1])\n",
    "c = delayed_read_csv(filenames[2])\n",
    "\n",
    "delayed_len = delayed(len)\n",
    "na = delayed_len(a)\n",
    "nb = delayed_len(b)\n",
    "nc = delayed_len(c)\n",
    "\n",
    "delayed_sum = delayed(sum)\n",
    "\n",
    "total = delayed_sum([na, nb, nc])\n",
    "total"
   ]
  },
  {
   "cell_type": "code",
   "execution_count": 5,
   "metadata": {},
   "outputs": [
    {
     "name": "stdout",
     "output_type": "stream",
     "text": [
      "27\n",
      "CPU times: user 6.17 ms, sys: 2.59 ms, total: 8.76 ms\n",
      "Wall time: 41.9 ms\n"
     ]
    }
   ],
   "source": [
    "%time print(total.compute())"
   ]
  },
  {
   "cell_type": "markdown",
   "metadata": {},
   "source": [
    "Next, repeat this using loops rather than writing out all the variables."
   ]
  },
  {
   "cell_type": "code",
   "execution_count": 6,
   "metadata": {},
   "outputs": [
    {
     "name": "stdout",
     "output_type": "stream",
     "text": [
      "27\n",
      "CPU times: user 5.9 ms, sys: 0 ns, total: 5.9 ms\n",
      "Wall time: 38.7 ms\n"
     ]
    }
   ],
   "source": [
    "# concise version\n",
    "csvs = [delayed(pd.read_csv)(fn) for fn in filenames]\n",
    "lens = [delayed(len)(csv) for csv in csvs]\n",
    "total = delayed(sum)(lens)\n",
    "%time print(total.compute())"
   ]
  },
  {
   "cell_type": "markdown",
   "metadata": {},
   "source": [
    "## Real example\n",
    "\n",
    "### Inspect Data\n",
    "\n",
    "We will use the supplementary data of the paper **Sequestration of carbon in the deep Atlantic during the last glaciation** by Yu *et al.* published in Nature Geoscience, 2016, doi:10.1038/ngeo2657.\n",
    "\n",
    "I downloaded the data and reorganized it into several CSV files saved under `/g/data/dk92/notebooks/demo_data/Nature_geo_csv`. This dataset includes lab measurement of pH (i.e., CO$_{3}$ $\\mu$mol/kg), Oxygen isotopes, Carbon isotopes, and CaCO$_{3}$ in sediments at different depths of the Ocean Deep Drilling (ODD) cores in the Atlantic Ocean. The name convention for those files are coreID-measurements.csv."
   ]
  },
  {
   "cell_type": "code",
   "execution_count": 7,
   "metadata": {},
   "outputs": [
    {
     "data": {
      "text/plain": [
       "['.DS_Store',\n",
       " 'EW9209-2JPC-PH.csv',\n",
       " 'MD01-2446-O-C.csv',\n",
       " 'MD01-2446-PH.csv',\n",
       " 'MD95-2039-CaCO3.csv',\n",
       " 'MD95-2039-O-C.csv',\n",
       " 'MD95-2039-PH.csv',\n",
       " 'RC13-228-O-C.csv',\n",
       " 'RC13-228-PH.csv',\n",
       " 'RC13-229-O-C.csv',\n",
       " 'RC13-229-PH.csv',\n",
       " 'RC16-59-PH.csv',\n",
       " 'TNO57-21-PH.csv']"
      ]
     },
     "execution_count": 7,
     "metadata": {},
     "output_type": "execute_result"
    }
   ],
   "source": [
    "import os\n",
    "sorted(os.listdir('/g/data/dk92/notebooks/demo_data/Nature_geo_csv'))"
   ]
  },
  {
   "cell_type": "markdown",
   "metadata": {},
   "source": [
    "#### Read one file with pandas.read_csv and compute the mean pH value of a core.\n",
    "\n",
    "We can use `Pandas.read_csv( )` to access the csv files."
   ]
  },
  {
   "cell_type": "code",
   "execution_count": 8,
   "metadata": {},
   "outputs": [
    {
     "data": {
      "text/html": [
       "<div>\n",
       "<style scoped>\n",
       "    .dataframe tbody tr th:only-of-type {\n",
       "        vertical-align: middle;\n",
       "    }\n",
       "\n",
       "    .dataframe tbody tr th {\n",
       "        vertical-align: top;\n",
       "    }\n",
       "\n",
       "    .dataframe thead th {\n",
       "        text-align: right;\n",
       "    }\n",
       "</style>\n",
       "<table border=\"1\" class=\"dataframe\">\n",
       "  <thead>\n",
       "    <tr style=\"text-align: right;\">\n",
       "      <th></th>\n",
       "      <th>top</th>\n",
       "      <th>btm</th>\n",
       "      <th>mid</th>\n",
       "      <th>age</th>\n",
       "      <th>Cw B/Ca</th>\n",
       "      <th>CO3</th>\n",
       "    </tr>\n",
       "  </thead>\n",
       "  <tbody>\n",
       "    <tr>\n",
       "      <th>0</th>\n",
       "      <td>815</td>\n",
       "      <td>816</td>\n",
       "      <td>815.5</td>\n",
       "      <td>51.9</td>\n",
       "      <td>123.4</td>\n",
       "      <td>83.3</td>\n",
       "    </tr>\n",
       "    <tr>\n",
       "      <th>1</th>\n",
       "      <td>853</td>\n",
       "      <td>854</td>\n",
       "      <td>853.5</td>\n",
       "      <td>54.6</td>\n",
       "      <td>128.8</td>\n",
       "      <td>88.0</td>\n",
       "    </tr>\n",
       "    <tr>\n",
       "      <th>2</th>\n",
       "      <td>916</td>\n",
       "      <td>917</td>\n",
       "      <td>916.5</td>\n",
       "      <td>60.7</td>\n",
       "      <td>114.0</td>\n",
       "      <td>75.0</td>\n",
       "    </tr>\n",
       "    <tr>\n",
       "      <th>3</th>\n",
       "      <td>925</td>\n",
       "      <td>926</td>\n",
       "      <td>925.5</td>\n",
       "      <td>61.4</td>\n",
       "      <td>113.3</td>\n",
       "      <td>74.5</td>\n",
       "    </tr>\n",
       "    <tr>\n",
       "      <th>4</th>\n",
       "      <td>936</td>\n",
       "      <td>937</td>\n",
       "      <td>936.5</td>\n",
       "      <td>62.3</td>\n",
       "      <td>111.3</td>\n",
       "      <td>72.7</td>\n",
       "    </tr>\n",
       "  </tbody>\n",
       "</table>\n",
       "</div>"
      ],
      "text/plain": [
       "   top  btm    mid   age  Cw B/Ca   CO3\n",
       "0  815  816  815.5  51.9    123.4  83.3\n",
       "1  853  854  853.5  54.6    128.8  88.0\n",
       "2  916  917  916.5  60.7    114.0  75.0\n",
       "3  925  926  925.5  61.4    113.3  74.5\n",
       "4  936  937  936.5  62.3    111.3  72.7"
      ]
     },
     "execution_count": 8,
     "metadata": {},
     "output_type": "execute_result"
    }
   ],
   "source": [
    "import pandas as pd\n",
    "# skip the first two lines\n",
    "# line1: core name\n",
    "# line2: units of the measurement in each column\n",
    "df = pd.read_csv(\"/g/data/dk92/notebooks/demo_data/Nature_geo_csv/TNO57-21-PH.csv\",skiprows=2)\n",
    "df.head()"
   ]
  },
  {
   "cell_type": "code",
   "execution_count": 9,
   "metadata": {},
   "outputs": [
    {
     "data": {
      "text/plain": [
       "top          int64\n",
       "btm          int64\n",
       "mid        float64\n",
       "age        float64\n",
       "Cw B/Ca    float64\n",
       "CO3        float64\n",
       "dtype: object"
      ]
     },
     "execution_count": 9,
     "metadata": {},
     "output_type": "execute_result"
    }
   ],
   "source": [
    "# What is the schema?\n",
    "df.dtypes"
   ]
  },
  {
   "cell_type": "code",
   "execution_count": 10,
   "metadata": {},
   "outputs": [
    {
     "data": {
      "text/plain": [
       "top        1092.583333\n",
       "btm        1093.604167\n",
       "mid        1093.093750\n",
       "age          73.637500\n",
       "Cw B/Ca     125.895833\n",
       "CO3          85.506250\n",
       "dtype: float64"
      ]
     },
     "execution_count": 10,
     "metadata": {},
     "output_type": "execute_result"
    }
   ],
   "source": [
    "# Get the mean value of each column\n",
    "df.mean()"
   ]
  },
  {
   "cell_type": "code",
   "execution_count": 11,
   "metadata": {},
   "outputs": [
    {
     "data": {
      "text/plain": [
       "48"
      ]
     },
     "execution_count": 11,
     "metadata": {},
     "output_type": "execute_result"
    }
   ],
   "source": [
    "# We can get a single column as a Series using Python's getitem syntax on the DataFrame object.\n",
    "df['CO3']\n",
    "\n",
    "# or specify one column to get the mean of that data series only\n",
    "df.CO3.mean()\n",
    "\n",
    "# Find the number of data points\n",
    "import numpy as np\n",
    "np.size(df['CO3'])"
   ]
  },
  {
   "cell_type": "markdown",
   "metadata": {},
   "source": [
    "### Sequential code: Mean CO$_{3}$ Per Core\n",
    "\n",
    "The above cell computes the mean departure delay per-airport for one year. Here we expand that to all years using a sequential for loop."
   ]
  },
  {
   "cell_type": "code",
   "execution_count": 12,
   "metadata": {},
   "outputs": [
    {
     "data": {
      "text/plain": [
       "['/g/data/dk92/notebooks/demo_data/Nature_geo_csv/EW9209-2JPC-PH.csv',\n",
       " '/g/data/dk92/notebooks/demo_data/Nature_geo_csv/MD01-2446-PH.csv',\n",
       " '/g/data/dk92/notebooks/demo_data/Nature_geo_csv/MD95-2039-PH.csv',\n",
       " '/g/data/dk92/notebooks/demo_data/Nature_geo_csv/RC13-228-PH.csv',\n",
       " '/g/data/dk92/notebooks/demo_data/Nature_geo_csv/RC13-229-PH.csv',\n",
       " '/g/data/dk92/notebooks/demo_data/Nature_geo_csv/RC16-59-PH.csv',\n",
       " '/g/data/dk92/notebooks/demo_data/Nature_geo_csv/TNO57-21-PH.csv']"
      ]
     },
     "execution_count": 12,
     "metadata": {},
     "output_type": "execute_result"
    }
   ],
   "source": [
    "from glob import glob\n",
    "filenames = sorted(glob('/g/data/dk92/notebooks/demo_data/Nature_geo_csv/*-PH.csv'))\n",
    "filenames"
   ]
  },
  {
   "cell_type": "code",
   "execution_count": 13,
   "metadata": {},
   "outputs": [
    {
     "name": "stdout",
     "output_type": "stream",
     "text": [
      "CPU times: user 31.7 ms, sys: 8.61 ms, total: 40.4 ms\n",
      "Wall time: 119 ms\n"
     ]
    }
   ],
   "source": [
    "%%time\n",
    "means = []\n",
    "counts = []\n",
    "for fn in filenames:\n",
    "    # Read in file\n",
    "    df = pd.read_csv(fn,skiprows=2)\n",
    "    \n",
    "    # Get the mean CO3 for each core\n",
    "    mean_CO3_each = df.CO3.mean()\n",
    "\n",
    "    # Count how many data points in each core\n",
    "    count = np.size(df['CO3'])\n",
    "\n",
    "    # Save the intermediates\n",
    "    means.append(mean_CO3_each)\n",
    "    counts.append(count)\n",
    "\n",
    "# Combine intermediates to get total mean-delay-per-origin\n",
    "mean_CO3 = np.mean(means)\n",
    "n_dpoints = sum(counts)"
   ]
  },
  {
   "cell_type": "code",
   "execution_count": 14,
   "metadata": {},
   "outputs": [
    {
     "data": {
      "text/plain": [
       "[92.66666666666667,\n",
       " 97.8157894736842,\n",
       " 106.03571428571429,\n",
       " 90.16,\n",
       " 80.31818181818181,\n",
       " 94.51515151515152,\n",
       " 85.50625000000002]"
      ]
     },
     "execution_count": 14,
     "metadata": {},
     "output_type": "execute_result"
    }
   ],
   "source": [
    "means"
   ]
  },
  {
   "cell_type": "code",
   "execution_count": 15,
   "metadata": {},
   "outputs": [
    {
     "data": {
      "text/plain": [
       "263"
      ]
     },
     "execution_count": 15,
     "metadata": {},
     "output_type": "execute_result"
    }
   ],
   "source": [
    "mean_CO3\n",
    "n_dpoints"
   ]
  },
  {
   "cell_type": "markdown",
   "metadata": {},
   "source": [
    "### Parallelize the code above\n",
    "\n",
    "Use `dask.delayed` to parallelize the code above. \n",
    "\n",
    "Note that methods and attribute access on delayed objects work automatically, so if you have a delayed object you can perform normal arithmetic, slicing, and method calls on it and it will produce the correct delayed calls.\n",
    "\n",
    "```\n",
    "x = delayed(np.arange)(10)\n",
    "y = (x + 1)[::2].sum()  # everything here was delayed\n",
    "```\n",
    "\n",
    "Calling the `.compute()` method works well when you have a single output. When you have multiple outputs you might want to use the `dask.compute` function:\n",
    "\n",
    "```\n",
    "x = delayed(np.arange)(10)\n",
    "y = x ** 2\n",
    "min_, max_ = compute(y.min(), y.max())\n",
    "min_, max_\n",
    "(0, 81)\n",
    "```\n",
    "This way Dask can share the intermediate values (like `y = x**2`).\n",
    "Your goal is to parallelize the code above (which has been copied below) using `dask.delayed`. You may also want to visualize some of the computation to see if you’re performing it correctly. This is just one way of using `delayed` - there are several other ways to use this."
   ]
  },
  {
   "cell_type": "code",
   "execution_count": 16,
   "metadata": {},
   "outputs": [],
   "source": [
    "from dask import compute\n",
    "from dask import delayed"
   ]
  },
  {
   "cell_type": "code",
   "execution_count": 17,
   "metadata": {},
   "outputs": [
    {
     "name": "stdout",
     "output_type": "stream",
     "text": [
      "CPU times: user 28.4 ms, sys: 1.29 ms, total: 29.6 ms\n",
      "Wall time: 181 ms\n"
     ]
    }
   ],
   "source": [
    "%%time\n",
    "\n",
    "means = []\n",
    "counts = []\n",
    "for fn in filenames:\n",
    "    # Read in file\n",
    "    df = delayed(pd.read_csv)(fn,skiprows=2)\n",
    "    \n",
    "    # Get the mean CO3 for each core\n",
    "    mean_CO3_each = df.CO3.mean()\n",
    "\n",
    "    # Count how many data points in each core\n",
    "    count = np.size(df['CO3'])\n",
    "\n",
    "    # Save the intermediates\n",
    "    means.append(mean_CO3_each)\n",
    "    counts.append(count)\n",
    "\n",
    "# Compute the intermediates\n",
    "means, counts = compute(means, counts)\n",
    "\n",
    "# Combine intermediates to get total mean-delay-per-origin\n",
    "#mean_CO31 = np.mean(means1)\n",
    "#n_dpoints = sum(counts1)"
   ]
  },
  {
   "cell_type": "code",
   "execution_count": 18,
   "metadata": {},
   "outputs": [
    {
     "data": {
      "text/plain": [
       "92.43110767991409"
      ]
     },
     "execution_count": 18,
     "metadata": {},
     "output_type": "execute_result"
    }
   ],
   "source": [
    "mean_CO3"
   ]
  },
  {
   "cell_type": "markdown",
   "metadata": {},
   "source": [
    "### Close the client\n",
    "\n",
    "Before moving on to the next exercise, make sure to close your client or stop this kernel."
   ]
  },
  {
   "cell_type": "code",
   "execution_count": 19,
   "metadata": {},
   "outputs": [],
   "source": [
    "client.close()"
   ]
  },
  {
   "cell_type": "markdown",
   "metadata": {},
   "source": [
    "### Summary\n",
    "\n",
    "This example shows how Pandas work with multiple tabular datasets efficiently using the Dask `delayed` feature."
   ]
  },
  {
   "cell_type": "markdown",
   "metadata": {},
   "source": [
    "## Reference\n",
    "\n",
    "https://tutorial.dask.org"
   ]
  }
 ],
 "metadata": {
  "anaconda-cloud": {},
  "kernelspec": {
   "display_name": "Python 3",
   "language": "python",
   "name": "python3"
  },
  "language_info": {
   "codemirror_mode": {
    "name": "ipython",
    "version": 3
   },
   "file_extension": ".py",
   "mimetype": "text/x-python",
   "name": "python",
   "nbconvert_exporter": "python",
   "pygments_lexer": "ipython3",
   "version": "3.7.8"
  }
 },
 "nbformat": 4,
 "nbformat_minor": 4
}
