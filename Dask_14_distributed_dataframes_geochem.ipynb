{
 "cells": [
  {
   "cell_type": "markdown",
   "metadata": {},
   "source": [
    "# Distributed DataFrames and Efficiency\n",
    "\n",
    "In the previous notebooks we discussed `dask.dataframe` and `dask.distributed`. Here we combine them on a different dataset while moving from local to distributed computing, and discuss efficiency and performance tips. \n",
    "\n",
    "We will cover the following topics:\n",
    "\n",
    "1. Persist common intermediate results in memory with `persist`\n",
    "2. Partitions and partition size\n",
    "3. Using indices to improve efficiency\n",
    "---"
   ]
  },
  {
   "cell_type": "markdown",
   "metadata": {},
   "source": [
    "- Authors: NCI Virtual Research Environment Team\n",
    "- Keywords: Dask, DataFrames, Distributed, Performance\n",
    "- Creation Date: 2020-Sep\n",
    "- Lineage/Reference: This tutorial is referenced to [dask tutorial](https://github.com/dask/dask-tutorial).\n",
    "-----"
   ]
  },
  {
   "cell_type": "markdown",
   "metadata": {},
   "source": [
    "## Environment setup"
   ]
  },
  {
   "cell_type": "markdown",
   "metadata": {},
   "source": [
    "Choose the appropriate one from the following two senarios (1) local or VDI (2) Pangeo on Gadi:"
   ]
  },
  {
   "cell_type": "code",
   "execution_count": 1,
   "metadata": {},
   "outputs": [
    {
     "name": "stdout",
     "output_type": "stream",
     "text": [
      "<Client: 'tcp://127.0.0.1:43043' processes=4 threads=4, memory=12.06 GB>\n"
     ]
    }
   ],
   "source": [
    "# local or VDI\n",
    "from dask.distributed import Client\n",
    "client = Client()\n",
    "print(client)"
   ]
  },
  {
   "cell_type": "code",
   "execution_count": 2,
   "metadata": {},
   "outputs": [
    {
     "name": "stdout",
     "output_type": "stream",
     "text": [
      "<Client: 'tcp://10.6.76.35:8729' processes=96 threads=96, memory=322.12 GB>\n"
     ]
    }
   ],
   "source": [
    "# Pangeo on Gadi\n",
    "from dask.distributed import Client, LocalCluster\n",
    "client = Client(scheduler_file='scheduler.json')\n",
    "print(client)"
   ]
  },
  {
   "cell_type": "markdown",
   "metadata": {},
   "source": [
    "<div class=\"alert alert-info\">\n",
    "<b>Warning: Please make sure you specify the correct path to the scheduler.json file within your environment.</b>  \n",
    "</div>"
   ]
  },
  {
   "cell_type": "markdown",
   "metadata": {},
   "source": [
    "Starting the Dask Client will provide a dashboard which is useful to gain insight into the computation. The link to the dashboard will become visible when you create the Client. We recommend having the Client open on one side of your screen and your notebook open on the other side, which will be useful for learning purposes."
   ]
  },
  {
   "cell_type": "markdown",
   "metadata": {},
   "source": [
    "Notes on distributed computing:\n",
    "\n",
    "1. Environment: Each worker is a separate machine, and needs to have the required libraries installed. HPCs provide tools to help manage this.\n",
    "\n",
    "2. File system: In the local mode, every worker (threads, processes, or even the distributed scheduler) had access to your laptop's filesystem. In a distributed environment, you'll need some kind of shared filesystem to read data (cloud storage or a global file system). Mostly we have already been using a global file system in these exercises.\n",
    "\n",
    "3. Communication: Moving data between machines is relatively expensive. When possible, the distributed scheduler will ensure that tasks are scheduled to be run on workers that already have the required data. But some tasks will require data from multiple machines.\n"
   ]
  },
  {
   "cell_type": "markdown",
   "metadata": {},
   "source": [
    "## The Geochemistry dataset\n",
    "\n",
    "OZCHEM is Geoscience Australia's national whole-rock geochemical database. This release of OZCHEM contains over 50,000 analyses of rocks, regolith and stream sediments from many regions of Australia. Each analysis includes a geographic location and a geological description, which includes the host stratigraphic unit, where known, and the lithology. Most samples have been collected by Geoscience Australia's field parties. OZCHEM is stored in an ORACLE relational database and is available in comma-delimited flat ASCII format. The data set is also bundled with documentation explaining the database structure and includes definitions of the database tables and columns (attributes). It has been downloaded and stored in our `demo_data` directory. Please see details about this dataset in the [catalogue](https://ecat.ga.gov.au/geonetwork/srv/eng/catalog.search#/metadata/65464).\n",
    "\n",
    "The geochemistry dataset was downloaded from Geoscience Australia. The tweak that I did is to capitalise all the \"Qld\" in the state column in the QLD csv file. "
   ]
  },
  {
   "cell_type": "code",
   "execution_count": 2,
   "metadata": {},
   "outputs": [
    {
     "data": {
      "text/plain": [
       "['/g/data/dk92/notebooks/demo_data/Geochem/65464_act/Geochemistry_ACT_10_10_2007.csv',\n",
       " '/g/data/dk92/notebooks/demo_data/Geochem/65464_nsw/Geochemistry_NSW_11_10_2007.csv',\n",
       " '/g/data/dk92/notebooks/demo_data/Geochem/65464_nt/Geochemistry_NT_10_10_2007.csv',\n",
       " '/g/data/dk92/notebooks/demo_data/Geochem/65464_qld/Geochemistry_QLD_10_10_2007.csv',\n",
       " '/g/data/dk92/notebooks/demo_data/Geochem/65464_sa/Geochemistry_SA_10_10_2007.csv',\n",
       " '/g/data/dk92/notebooks/demo_data/Geochem/65464_tas/Geochemistry_TAS_11_10_2007.csv',\n",
       " '/g/data/dk92/notebooks/demo_data/Geochem/65464_vic/Geochemistry_VIC_11_10_2007.csv',\n",
       " '/g/data/dk92/notebooks/demo_data/Geochem/65464_wa/Geochemistry_WA_10_10_2007.csv',\n",
       " '/g/data/dk92/notebooks/demo_data/Geochem/65464_wa/Geochemistry_WA_10_10_20071.csv']"
      ]
     },
     "execution_count": 2,
     "metadata": {},
     "output_type": "execute_result"
    }
   ],
   "source": [
    "from glob import glob\n",
    "filenames = sorted(glob('/g/data/dk92/notebooks/demo_data/Geochem/65464*/*.csv'))\n",
    "filenames"
   ]
  },
  {
   "cell_type": "markdown",
   "metadata": {},
   "source": [
    "Read all the data into a single `dask.dataframe` object by stacking all csv files as partitions. Have a peek at the first five samples to get an idea what the properties of the samples were tested and recorded."
   ]
  },
  {
   "cell_type": "code",
   "execution_count": 3,
   "metadata": {
    "scrolled": true
   },
   "outputs": [],
   "source": [
    "import dask.dataframe as dd\n",
    "\n",
    "df = dd.read_csv('/g/data/dk92/notebooks/demo_data/Geochem/65464*/*.csv', dtype={'geogarea': 'object',\n",
    "       'hmapno': 'float64',\n",
    "       'utm_zone': 'float64',\n",
    "       'Ba': 'float64',\n",
    "       'Bi': 'float64',\n",
    "       'Ce': 'float64',\n",
    "       'Co': 'float64',\n",
    "       'Cr': 'float64',\n",
    "       'Cu': 'float64',\n",
    "       'La': 'float64',\n",
    "       'Mo': 'float64',\n",
    "       'Nb': 'float64',\n",
    "       'Ni': 'float64',\n",
    "       'Pb': 'float64',\n",
    "       'Rb': 'float64',\n",
    "       'Sc': 'float64',\n",
    "       'Sn': 'float64',\n",
    "       'Sr': 'float64',\n",
    "       'Ta': 'float64',\n",
    "       'Th': 'float64',\n",
    "       'U': 'float64',\n",
    "       'V': 'float64',\n",
    "       'W': 'float64',\n",
    "       'Y': 'float64',\n",
    "       'Zn': 'float64',\n",
    "       'Zr': 'float64',\n",
    "       'grouping': 'object',\n",
    "       'sampleid': 'object',\n",
    "       'siteid': 'object'}, encoding='latin1')"
   ]
  },
  {
   "cell_type": "markdown",
   "metadata": {},
   "source": [
    "Note `latin1` will decode anything because it maps every byte to a Unicode code point. Ignoring this argument will result the WA data not being readable."
   ]
  },
  {
   "cell_type": "code",
   "execution_count": 4,
   "metadata": {
    "scrolled": true
   },
   "outputs": [
    {
     "data": {
      "text/html": [
       "<div>\n",
       "<style scoped>\n",
       "    .dataframe tbody tr th:only-of-type {\n",
       "        vertical-align: middle;\n",
       "    }\n",
       "\n",
       "    .dataframe tbody tr th {\n",
       "        vertical-align: top;\n",
       "    }\n",
       "\n",
       "    .dataframe thead th {\n",
       "        text-align: right;\n",
       "    }\n",
       "</style>\n",
       "<table border=\"1\" class=\"dataframe\">\n",
       "  <thead>\n",
       "    <tr style=\"text-align: right;\">\n",
       "      <th></th>\n",
       "      <th>uid</th>\n",
       "      <th>eno</th>\n",
       "      <th>siteid</th>\n",
       "      <th>state</th>\n",
       "      <th>country</th>\n",
       "      <th>geogarea</th>\n",
       "      <th>locdesc</th>\n",
       "      <th>hmapno</th>\n",
       "      <th>qmapid</th>\n",
       "      <th>easting</th>\n",
       "      <th>...</th>\n",
       "      <th>Th</th>\n",
       "      <th>Ti</th>\n",
       "      <th>Tm</th>\n",
       "      <th>U</th>\n",
       "      <th>V</th>\n",
       "      <th>W</th>\n",
       "      <th>Y</th>\n",
       "      <th>Yb</th>\n",
       "      <th>Zn</th>\n",
       "      <th>Zr</th>\n",
       "    </tr>\n",
       "  </thead>\n",
       "  <tbody>\n",
       "    <tr>\n",
       "      <th>0</th>\n",
       "      <td>1</td>\n",
       "      <td>105755</td>\n",
       "      <td>79620142</td>\n",
       "      <td>ACT</td>\n",
       "      <td>Australia</td>\n",
       "      <td>NaN</td>\n",
       "      <td>same location as 0143</td>\n",
       "      <td>8727.0</td>\n",
       "      <td>SI5516</td>\n",
       "      <td>688912.433</td>\n",
       "      <td>...</td>\n",
       "      <td>15.0</td>\n",
       "      <td>NaN</td>\n",
       "      <td>NaN</td>\n",
       "      <td>-3.0</td>\n",
       "      <td>95.0</td>\n",
       "      <td>6.0</td>\n",
       "      <td>34.0</td>\n",
       "      <td>NaN</td>\n",
       "      <td>51.0</td>\n",
       "      <td>184.0</td>\n",
       "    </tr>\n",
       "    <tr>\n",
       "      <th>1</th>\n",
       "      <td>2</td>\n",
       "      <td>105756</td>\n",
       "      <td>79620143</td>\n",
       "      <td>ACT</td>\n",
       "      <td>Australia</td>\n",
       "      <td>NaN</td>\n",
       "      <td>same location as 0142</td>\n",
       "      <td>8727.0</td>\n",
       "      <td>SI5516</td>\n",
       "      <td>688912.433</td>\n",
       "      <td>...</td>\n",
       "      <td>15.0</td>\n",
       "      <td>NaN</td>\n",
       "      <td>NaN</td>\n",
       "      <td>-3.0</td>\n",
       "      <td>35.0</td>\n",
       "      <td>-5.0</td>\n",
       "      <td>29.0</td>\n",
       "      <td>NaN</td>\n",
       "      <td>56.0</td>\n",
       "      <td>225.0</td>\n",
       "    </tr>\n",
       "    <tr>\n",
       "      <th>2</th>\n",
       "      <td>3</td>\n",
       "      <td>109421</td>\n",
       "      <td>79620862</td>\n",
       "      <td>ACT</td>\n",
       "      <td>Australia</td>\n",
       "      <td>NaN</td>\n",
       "      <td>NaN</td>\n",
       "      <td>8627.0</td>\n",
       "      <td>SI5516</td>\n",
       "      <td>678812.457</td>\n",
       "      <td>...</td>\n",
       "      <td>17.0</td>\n",
       "      <td>NaN</td>\n",
       "      <td>NaN</td>\n",
       "      <td>-3.0</td>\n",
       "      <td>49.0</td>\n",
       "      <td>-5.0</td>\n",
       "      <td>34.0</td>\n",
       "      <td>NaN</td>\n",
       "      <td>179.0</td>\n",
       "      <td>201.0</td>\n",
       "    </tr>\n",
       "    <tr>\n",
       "      <th>3</th>\n",
       "      <td>4</td>\n",
       "      <td>109422</td>\n",
       "      <td>79620863</td>\n",
       "      <td>ACT</td>\n",
       "      <td>Australia</td>\n",
       "      <td>NaN</td>\n",
       "      <td>NaN</td>\n",
       "      <td>8627.0</td>\n",
       "      <td>SI5516</td>\n",
       "      <td>663412.482</td>\n",
       "      <td>...</td>\n",
       "      <td>30.0</td>\n",
       "      <td>NaN</td>\n",
       "      <td>NaN</td>\n",
       "      <td>12.0</td>\n",
       "      <td>11.0</td>\n",
       "      <td>15.0</td>\n",
       "      <td>67.0</td>\n",
       "      <td>NaN</td>\n",
       "      <td>11.0</td>\n",
       "      <td>113.0</td>\n",
       "    </tr>\n",
       "    <tr>\n",
       "      <th>4</th>\n",
       "      <td>5</td>\n",
       "      <td>109424</td>\n",
       "      <td>79620864</td>\n",
       "      <td>ACT</td>\n",
       "      <td>Australia</td>\n",
       "      <td>NaN</td>\n",
       "      <td>NaN</td>\n",
       "      <td>8627.0</td>\n",
       "      <td>SI5516</td>\n",
       "      <td>674412.476</td>\n",
       "      <td>...</td>\n",
       "      <td>24.0</td>\n",
       "      <td>NaN</td>\n",
       "      <td>NaN</td>\n",
       "      <td>4.0</td>\n",
       "      <td>53.0</td>\n",
       "      <td>5.0</td>\n",
       "      <td>48.0</td>\n",
       "      <td>NaN</td>\n",
       "      <td>34.0</td>\n",
       "      <td>188.0</td>\n",
       "    </tr>\n",
       "  </tbody>\n",
       "</table>\n",
       "<p>5 rows × 113 columns</p>\n",
       "</div>"
      ],
      "text/plain": [
       "   uid     eno    siteid state    country geogarea                locdesc  \\\n",
       "0    1  105755  79620142   ACT  Australia      NaN  same location as 0143   \n",
       "1    2  105756  79620143   ACT  Australia      NaN  same location as 0142   \n",
       "2    3  109421  79620862   ACT  Australia      NaN                    NaN   \n",
       "3    4  109422  79620863   ACT  Australia      NaN                    NaN   \n",
       "4    5  109424  79620864   ACT  Australia      NaN                    NaN   \n",
       "\n",
       "   hmapno  qmapid     easting  ...    Th  Ti  Tm     U     V     W     Y  Yb  \\\n",
       "0  8727.0  SI5516  688912.433  ...  15.0 NaN NaN  -3.0  95.0   6.0  34.0 NaN   \n",
       "1  8727.0  SI5516  688912.433  ...  15.0 NaN NaN  -3.0  35.0  -5.0  29.0 NaN   \n",
       "2  8627.0  SI5516  678812.457  ...  17.0 NaN NaN  -3.0  49.0  -5.0  34.0 NaN   \n",
       "3  8627.0  SI5516  663412.482  ...  30.0 NaN NaN  12.0  11.0  15.0  67.0 NaN   \n",
       "4  8627.0  SI5516  674412.476  ...  24.0 NaN NaN   4.0  53.0   5.0  48.0 NaN   \n",
       "\n",
       "      Zn     Zr  \n",
       "0   51.0  184.0  \n",
       "1   56.0  225.0  \n",
       "2  179.0  201.0  \n",
       "3   11.0  113.0  \n",
       "4   34.0  188.0  \n",
       "\n",
       "[5 rows x 113 columns]"
      ]
     },
     "execution_count": 4,
     "metadata": {},
     "output_type": "execute_result"
    }
   ],
   "source": [
    "df.head()"
   ]
  },
  {
   "cell_type": "markdown",
   "metadata": {},
   "source": [
    "Let's see what are the 113 properties of the rock sample."
   ]
  },
  {
   "cell_type": "code",
   "execution_count": 5,
   "metadata": {},
   "outputs": [
    {
     "data": {
      "text/plain": [
       "Index(['uid', 'eno', 'siteid', 'state', 'country', 'geogarea', 'locdesc',\n",
       "       'hmapno', 'qmapid', 'easting',\n",
       "       ...\n",
       "       'Th', 'Ti', 'Tm', 'U', 'V', 'W', 'Y', 'Yb', 'Zn', 'Zr'],\n",
       "      dtype='object', length=113)"
      ]
     },
     "execution_count": 5,
     "metadata": {},
     "output_type": "execute_result"
    }
   ],
   "source": [
    "df.columns"
   ]
  },
  {
   "cell_type": "code",
   "execution_count": 6,
   "metadata": {},
   "outputs": [
    {
     "data": {
      "text/plain": [
       "state\n",
       "ACT      197\n",
       "NSW     8697\n",
       "NT     13165\n",
       "QLD    21948\n",
       "SA      2734\n",
       "TAS     1189\n",
       "VIC     1287\n",
       "WA     35557\n",
       "Name: uid, dtype: int64"
      ]
     },
     "execution_count": 6,
     "metadata": {},
     "output_type": "execute_result"
    }
   ],
   "source": [
    "a = df.groupby('state').uid.count()\n",
    "a.compute()"
   ]
  },
  {
   "cell_type": "markdown",
   "metadata": {},
   "source": [
    "Let's have a look at the sample distribution across Australia.\n",
    "\n",
    "**Please note that the following cell requires a download of coastline, hence does not work within Pangeo environment on Gadi as it is restricted to compute nodes with no external access. However, this piece of code would work on local computer, VDI and Gadi login node; or should work using the `hh5` environment which has pre-downloaded map data.**"
   ]
  },
  {
   "cell_type": "code",
   "execution_count": 7,
   "metadata": {},
   "outputs": [
    {
     "data": {
      "image/png": "[encoded data removed]",
      "text/plain": [
       "<Figure size 720x720 with 2 Axes>"
      ]
     },
     "metadata": {
      "needs_background": "light"
     },
     "output_type": "display_data"
    }
   ],
   "source": [
    "import matplotlib.pyplot as plt\n",
    "import cartopy.crs as ccrs\n",
    "import cartopy.feature as cf\n",
    "%matplotlib inline\n",
    "\n",
    "fig = plt.figure(figsize=(10,10))\n",
    "ax = plt.axes(projection = ccrs.PlateCarree())\n",
    "ax.stock_img()\n",
    "ax.add_feature(cf.COASTLINE)\n",
    "extent = [112,155,-43,-9]\n",
    "ax.set_extent(extent)\n",
    "ax.coastlines(resolution='50m')\n",
    "ax.set_title(\"Geochemistry Samples Distribution Colorscaled by Fe2O3\")\n",
    "splot = plt.scatter(df.longitude.compute(),df.latitude.compute(),c=0.1*df.Fe2O3.compute())\n",
    "fig.colorbar(splot, shrink=0.3)\n",
    "ax.set_xlabel('lat')\n",
    "ax.set_ylabel('lon')\n",
    "plt.show()"
   ]
  },
  {
   "cell_type": "markdown",
   "metadata": {},
   "source": [
    "### Persist data in distributed memory\n",
    "\n",
    "Every time we run an operation like `df.longitude.compute()` we read through our dataset from disk. This can be slow, especially because we're reading data from CSV. We usually have two options to make this faster:\n",
    "\n",
    "1. Persist relevant data in memory, either on our computer or on a cluster\n",
    "2. Use a faster on-disk format, like HDF5 or Parquet\n",
    "\n",
    "In this section we persist our data in memory. On a single machine this is often done by doing a bit of pre-processing and data reduction with dask dataframe and then running `compute` to a Pandas dataframe and using Pandas in the future.  \n",
    "\n",
    "```python\n",
    "df = dd.read_csv(...)\n",
    "df = df[df.Origin == 'LGA']  # filter down to smaller dataset\n",
    "pdf = df.compute()  # convert to pandas\n",
    "pdf ... # continue with familiar Pandas workflows\n",
    "```\n",
    "\n",
    "However on a distributed cluster when even our cleaned data is too large we still can't use Pandas. In this case we ask Dask to persist data in memory with the `dask.persist` function. This is what the next cell does. This will help us to understand when data is lazy and when it is computing.\n",
    "\n",
    "You can trigger computations using the persist method:\n",
    "\n",
    "    x = x.persist()\n",
    "\n",
    "or the dask.persist function for multiple inputs:\n",
    "\n",
    "    x, y = dask.persist(x, y)"
   ]
  },
  {
   "cell_type": "markdown",
   "metadata": {},
   "source": [
    "### Let's compare before and after we persist the dataframe into memory."
   ]
  },
  {
   "cell_type": "code",
   "execution_count": 7,
   "metadata": {},
   "outputs": [
    {
     "name": "stdout",
     "output_type": "stream",
     "text": [
      "CPU times: user 84.2 ms, sys: 43.8 ms, total: 128 ms\n",
      "Wall time: 343 ms\n"
     ]
    }
   ],
   "source": [
    "%time _ = df.longitude.compute()"
   ]
  },
  {
   "cell_type": "code",
   "execution_count": 8,
   "metadata": {},
   "outputs": [],
   "source": [
    "df = df.persist()"
   ]
  },
  {
   "cell_type": "code",
   "execution_count": 9,
   "metadata": {},
   "outputs": [
    {
     "name": "stdout",
     "output_type": "stream",
     "text": [
      "CPU times: user 40.9 ms, sys: 401 µs, total: 41.3 ms\n",
      "Wall time: 40.5 ms\n"
     ]
    }
   ],
   "source": [
    "%time _ = df.longitude.compute()"
   ]
  },
  {
   "cell_type": "markdown",
   "metadata": {},
   "source": [
    "Alternatively, look at the plots in the diagnostic dashboard, what is taking up most of the time? (You can hover over rectangles to see what function they represent)"
   ]
  },
  {
   "cell_type": "markdown",
   "metadata": {},
   "source": [
    "## Partitions\n",
    "\n",
    "One `dask.dataframe` is composed of several Pandas dataframes.  The organization of these dataframes can significantly impact performance.  In this section we discuss two common factors that commonly impact performance:\n",
    "\n",
    "1. The number of Pandas dataframes can affect overhead.  If the dataframes are too small then Dask might spend more time deciding what to do than Pandas spends actually doing it.  Ideally computations should take 100's of milliseconds.\n",
    "\n",
    "2. If we know how the dataframes are sorted then certain operations become much faster."
   ]
  },
  {
   "cell_type": "markdown",
   "metadata": {},
   "source": [
    "### Number of partitions and partition size\n",
    "\n",
    "When we read in our data from CSV files we get potentially multiple Pandas dataframes for each file. Look at the metadata below to determine a few things about the current partitioning:\n",
    "- How many partitions are there?\n",
    "- Are the splits along the index between partitions known? If so, what are they?"
   ]
  },
  {
   "cell_type": "code",
   "execution_count": 10,
   "metadata": {},
   "outputs": [
    {
     "data": {
      "text/plain": [
       "9"
      ]
     },
     "execution_count": 10,
     "metadata": {},
     "output_type": "execute_result"
    }
   ],
   "source": [
    "# Number of partitions\n",
    "df.npartitions"
   ]
  },
  {
   "cell_type": "code",
   "execution_count": 11,
   "metadata": {},
   "outputs": [
    {
     "data": {
      "text/plain": [
       "False"
      ]
     },
     "execution_count": 11,
     "metadata": {},
     "output_type": "execute_result"
    }
   ],
   "source": [
    "# Are the splits between partitions known?\n",
    "df.known_divisions"
   ]
  },
  {
   "cell_type": "code",
   "execution_count": 12,
   "metadata": {},
   "outputs": [
    {
     "data": {
      "text/plain": [
       "(None, None, None, None, None, None, None, None, None, None)"
      ]
     },
     "execution_count": 12,
     "metadata": {},
     "output_type": "execute_result"
    }
   ],
   "source": [
    "# The splits between partitions. If unknown these are all `None`\n",
    "df.divisions"
   ]
  },
  {
   "cell_type": "markdown",
   "metadata": {},
   "source": [
    "### Sorted Index column\n",
    "\n",
    "Many dataframe operations like loc-indexing, groupby-apply, and joins are *much* faster on a sorted index.  For example, if we want to get data for a particular day of data it *really* helps to know where that day is, otherwise we need to search over all of our data.\n",
    "\n",
    "The Pandas model gives us a sorted index column. `Dask.dataframe` copies this model, and it remembers the min and max values of every partition's index.\n",
    "\n",
    "By default, our data doesn't have an index."
   ]
  },
  {
   "cell_type": "code",
   "execution_count": 13,
   "metadata": {},
   "outputs": [
    {
     "data": {
      "text/html": [
       "<div>\n",
       "<style scoped>\n",
       "    .dataframe tbody tr th:only-of-type {\n",
       "        vertical-align: middle;\n",
       "    }\n",
       "\n",
       "    .dataframe tbody tr th {\n",
       "        vertical-align: top;\n",
       "    }\n",
       "\n",
       "    .dataframe thead th {\n",
       "        text-align: right;\n",
       "    }\n",
       "</style>\n",
       "<table border=\"1\" class=\"dataframe\">\n",
       "  <thead>\n",
       "    <tr style=\"text-align: right;\">\n",
       "      <th></th>\n",
       "      <th>uid</th>\n",
       "      <th>eno</th>\n",
       "      <th>siteid</th>\n",
       "      <th>state</th>\n",
       "      <th>country</th>\n",
       "      <th>geogarea</th>\n",
       "      <th>locdesc</th>\n",
       "      <th>hmapno</th>\n",
       "      <th>qmapid</th>\n",
       "      <th>easting</th>\n",
       "      <th>...</th>\n",
       "      <th>Th</th>\n",
       "      <th>Ti</th>\n",
       "      <th>Tm</th>\n",
       "      <th>U</th>\n",
       "      <th>V</th>\n",
       "      <th>W</th>\n",
       "      <th>Y</th>\n",
       "      <th>Yb</th>\n",
       "      <th>Zn</th>\n",
       "      <th>Zr</th>\n",
       "    </tr>\n",
       "  </thead>\n",
       "  <tbody>\n",
       "    <tr>\n",
       "      <th>0</th>\n",
       "      <td>1</td>\n",
       "      <td>105755</td>\n",
       "      <td>79620142</td>\n",
       "      <td>ACT</td>\n",
       "      <td>Australia</td>\n",
       "      <td>NaN</td>\n",
       "      <td>same location as 0143</td>\n",
       "      <td>8727.0</td>\n",
       "      <td>SI5516</td>\n",
       "      <td>688912.433</td>\n",
       "      <td>...</td>\n",
       "      <td>15.0</td>\n",
       "      <td>NaN</td>\n",
       "      <td>NaN</td>\n",
       "      <td>-3.0</td>\n",
       "      <td>95.0</td>\n",
       "      <td>6.0</td>\n",
       "      <td>34.0</td>\n",
       "      <td>NaN</td>\n",
       "      <td>51.0</td>\n",
       "      <td>184.0</td>\n",
       "    </tr>\n",
       "    <tr>\n",
       "      <th>1</th>\n",
       "      <td>2</td>\n",
       "      <td>105756</td>\n",
       "      <td>79620143</td>\n",
       "      <td>ACT</td>\n",
       "      <td>Australia</td>\n",
       "      <td>NaN</td>\n",
       "      <td>same location as 0142</td>\n",
       "      <td>8727.0</td>\n",
       "      <td>SI5516</td>\n",
       "      <td>688912.433</td>\n",
       "      <td>...</td>\n",
       "      <td>15.0</td>\n",
       "      <td>NaN</td>\n",
       "      <td>NaN</td>\n",
       "      <td>-3.0</td>\n",
       "      <td>35.0</td>\n",
       "      <td>-5.0</td>\n",
       "      <td>29.0</td>\n",
       "      <td>NaN</td>\n",
       "      <td>56.0</td>\n",
       "      <td>225.0</td>\n",
       "    </tr>\n",
       "    <tr>\n",
       "      <th>2</th>\n",
       "      <td>3</td>\n",
       "      <td>109421</td>\n",
       "      <td>79620862</td>\n",
       "      <td>ACT</td>\n",
       "      <td>Australia</td>\n",
       "      <td>NaN</td>\n",
       "      <td>NaN</td>\n",
       "      <td>8627.0</td>\n",
       "      <td>SI5516</td>\n",
       "      <td>678812.457</td>\n",
       "      <td>...</td>\n",
       "      <td>17.0</td>\n",
       "      <td>NaN</td>\n",
       "      <td>NaN</td>\n",
       "      <td>-3.0</td>\n",
       "      <td>49.0</td>\n",
       "      <td>-5.0</td>\n",
       "      <td>34.0</td>\n",
       "      <td>NaN</td>\n",
       "      <td>179.0</td>\n",
       "      <td>201.0</td>\n",
       "    </tr>\n",
       "    <tr>\n",
       "      <th>3</th>\n",
       "      <td>4</td>\n",
       "      <td>109422</td>\n",
       "      <td>79620863</td>\n",
       "      <td>ACT</td>\n",
       "      <td>Australia</td>\n",
       "      <td>NaN</td>\n",
       "      <td>NaN</td>\n",
       "      <td>8627.0</td>\n",
       "      <td>SI5516</td>\n",
       "      <td>663412.482</td>\n",
       "      <td>...</td>\n",
       "      <td>30.0</td>\n",
       "      <td>NaN</td>\n",
       "      <td>NaN</td>\n",
       "      <td>12.0</td>\n",
       "      <td>11.0</td>\n",
       "      <td>15.0</td>\n",
       "      <td>67.0</td>\n",
       "      <td>NaN</td>\n",
       "      <td>11.0</td>\n",
       "      <td>113.0</td>\n",
       "    </tr>\n",
       "    <tr>\n",
       "      <th>4</th>\n",
       "      <td>5</td>\n",
       "      <td>109424</td>\n",
       "      <td>79620864</td>\n",
       "      <td>ACT</td>\n",
       "      <td>Australia</td>\n",
       "      <td>NaN</td>\n",
       "      <td>NaN</td>\n",
       "      <td>8627.0</td>\n",
       "      <td>SI5516</td>\n",
       "      <td>674412.476</td>\n",
       "      <td>...</td>\n",
       "      <td>24.0</td>\n",
       "      <td>NaN</td>\n",
       "      <td>NaN</td>\n",
       "      <td>4.0</td>\n",
       "      <td>53.0</td>\n",
       "      <td>5.0</td>\n",
       "      <td>48.0</td>\n",
       "      <td>NaN</td>\n",
       "      <td>34.0</td>\n",
       "      <td>188.0</td>\n",
       "    </tr>\n",
       "  </tbody>\n",
       "</table>\n",
       "<p>5 rows × 113 columns</p>\n",
       "</div>"
      ],
      "text/plain": [
       "   uid     eno    siteid state    country geogarea                locdesc  \\\n",
       "0    1  105755  79620142   ACT  Australia      NaN  same location as 0143   \n",
       "1    2  105756  79620143   ACT  Australia      NaN  same location as 0142   \n",
       "2    3  109421  79620862   ACT  Australia      NaN                    NaN   \n",
       "3    4  109422  79620863   ACT  Australia      NaN                    NaN   \n",
       "4    5  109424  79620864   ACT  Australia      NaN                    NaN   \n",
       "\n",
       "   hmapno  qmapid     easting  ...    Th  Ti  Tm     U     V     W     Y  Yb  \\\n",
       "0  8727.0  SI5516  688912.433  ...  15.0 NaN NaN  -3.0  95.0   6.0  34.0 NaN   \n",
       "1  8727.0  SI5516  688912.433  ...  15.0 NaN NaN  -3.0  35.0  -5.0  29.0 NaN   \n",
       "2  8627.0  SI5516  678812.457  ...  17.0 NaN NaN  -3.0  49.0  -5.0  34.0 NaN   \n",
       "3  8627.0  SI5516  663412.482  ...  30.0 NaN NaN  12.0  11.0  15.0  67.0 NaN   \n",
       "4  8627.0  SI5516  674412.476  ...  24.0 NaN NaN   4.0  53.0   5.0  48.0 NaN   \n",
       "\n",
       "      Zn     Zr  \n",
       "0   51.0  184.0  \n",
       "1   56.0  225.0  \n",
       "2  179.0  201.0  \n",
       "3   11.0  113.0  \n",
       "4   34.0  188.0  \n",
       "\n",
       "[5 rows x 113 columns]"
      ]
     },
     "execution_count": 13,
     "metadata": {},
     "output_type": "execute_result"
    }
   ],
   "source": [
    "df.head()"
   ]
  },
  {
   "cell_type": "markdown",
   "metadata": {},
   "source": [
    "So if we search for a particular sample it takes a while because it has to pass through all of the data."
   ]
  },
  {
   "cell_type": "code",
   "execution_count": 14,
   "metadata": {},
   "outputs": [
    {
     "name": "stdout",
     "output_type": "stream",
     "text": [
      "CPU times: user 43.7 ms, sys: 1.44 ms, total: 45.1 ms\n",
      "Wall time: 61 ms\n"
     ]
    },
    {
     "data": {
      "text/html": [
       "<div>\n",
       "<style scoped>\n",
       "    .dataframe tbody tr th:only-of-type {\n",
       "        vertical-align: middle;\n",
       "    }\n",
       "\n",
       "    .dataframe tbody tr th {\n",
       "        vertical-align: top;\n",
       "    }\n",
       "\n",
       "    .dataframe thead th {\n",
       "        text-align: right;\n",
       "    }\n",
       "</style>\n",
       "<table border=\"1\" class=\"dataframe\">\n",
       "  <thead>\n",
       "    <tr style=\"text-align: right;\">\n",
       "      <th></th>\n",
       "      <th>uid</th>\n",
       "      <th>eno</th>\n",
       "      <th>siteid</th>\n",
       "      <th>state</th>\n",
       "      <th>country</th>\n",
       "      <th>geogarea</th>\n",
       "      <th>locdesc</th>\n",
       "      <th>hmapno</th>\n",
       "      <th>qmapid</th>\n",
       "      <th>easting</th>\n",
       "      <th>...</th>\n",
       "      <th>Th</th>\n",
       "      <th>Ti</th>\n",
       "      <th>Tm</th>\n",
       "      <th>U</th>\n",
       "      <th>V</th>\n",
       "      <th>W</th>\n",
       "      <th>Y</th>\n",
       "      <th>Yb</th>\n",
       "      <th>Zn</th>\n",
       "      <th>Zr</th>\n",
       "    </tr>\n",
       "  </thead>\n",
       "  <tbody>\n",
       "    <tr>\n",
       "      <th>19</th>\n",
       "      <td>22073</td>\n",
       "      <td>85421</td>\n",
       "      <td>68590046</td>\n",
       "      <td>QLD</td>\n",
       "      <td>Australia</td>\n",
       "      <td>Coastal Ranges Igneous Province: Hodgkinson re...</td>\n",
       "      <td>Simpson Point on Cook Highway, 11km N of Kuranda</td>\n",
       "      <td>8064.0</td>\n",
       "      <td>SE5502</td>\n",
       "      <td>355845.667</td>\n",
       "      <td>...</td>\n",
       "      <td>17.0</td>\n",
       "      <td>NaN</td>\n",
       "      <td>NaN</td>\n",
       "      <td>3.0</td>\n",
       "      <td>NaN</td>\n",
       "      <td>NaN</td>\n",
       "      <td>35.0</td>\n",
       "      <td>NaN</td>\n",
       "      <td>69.0</td>\n",
       "      <td>194.0</td>\n",
       "    </tr>\n",
       "  </tbody>\n",
       "</table>\n",
       "<p>1 rows × 113 columns</p>\n",
       "</div>"
      ],
      "text/plain": [
       "      uid    eno    siteid state    country  \\\n",
       "19  22073  85421  68590046   QLD  Australia   \n",
       "\n",
       "                                             geogarea  \\\n",
       "19  Coastal Ranges Igneous Province: Hodgkinson re...   \n",
       "\n",
       "                                             locdesc  hmapno  qmapid  \\\n",
       "19  Simpson Point on Cook Highway, 11km N of Kuranda  8064.0  SE5502   \n",
       "\n",
       "       easting  ...    Th  Ti  Tm    U   V   W     Y  Yb    Zn     Zr  \n",
       "19  355845.667  ...  17.0 NaN NaN  3.0 NaN NaN  35.0 NaN  69.0  194.0  \n",
       "\n",
       "[1 rows x 113 columns]"
      ]
     },
     "execution_count": 14,
     "metadata": {},
     "output_type": "execute_result"
    }
   ],
   "source": [
    "%time df[df.sampleid == '68590046'].compute()"
   ]
  },
  {
   "cell_type": "code",
   "execution_count": 15,
   "metadata": {},
   "outputs": [
    {
     "data": {
      "image/png": "[encoded data removed]",
      "text/plain": [
       "<IPython.core.display.Image object>"
      ]
     },
     "execution_count": 15,
     "metadata": {},
     "output_type": "execute_result"
    }
   ],
   "source": [
    "df[df.sampleid == '68590046'].visualize(optimize_graph=True)"
   ]
  },
  {
   "cell_type": "markdown",
   "metadata": {},
   "source": [
    "However if we set the `sampleid` column as the index then this operation can be much faster.\n",
    "\n",
    "Calling `set_index` followed by `persist` results in a new set of dataframe partitions stored in memory, sorted along the index column. To do this dask has to:\n",
    "\n",
    "- Shuffle the data by sampleid, resulting in the same number of output partitions\n",
    "- Set the index for each partition\n",
    "- Store the resulting partitions in distributed memory\n",
    "\n",
    "This can be a (relatively) expensive operation, but allows certain queries to be more optimized. \n",
    "\n",
    "Watch the diagnostics page while the next line is running to see how the shuffle and index operation progresses."
   ]
  },
  {
   "cell_type": "code",
   "execution_count": 16,
   "metadata": {},
   "outputs": [
    {
     "name": "stdout",
     "output_type": "stream",
     "text": [
      "CPU times: user 24.5 ms, sys: 7.83 ms, total: 32.4 ms\n",
      "Wall time: 31 ms\n"
     ]
    }
   ],
   "source": [
    "%%time\n",
    "df = df.persist()"
   ]
  },
  {
   "cell_type": "markdown",
   "metadata": {},
   "source": [
    "Repeating the same query for a specific sample, we can see that we're faster after setting the index:"
   ]
  },
  {
   "cell_type": "code",
   "execution_count": 17,
   "metadata": {},
   "outputs": [
    {
     "data": {
      "text/plain": [
       "Index(['uid', 'eno', 'siteid', 'state', 'country', 'geogarea', 'locdesc',\n",
       "       'hmapno', 'qmapid', 'easting',\n",
       "       ...\n",
       "       'Th', 'Ti', 'Tm', 'U', 'V', 'W', 'Y', 'Yb', 'Zn', 'Zr'],\n",
       "      dtype='object', length=113)"
      ]
     },
     "execution_count": 17,
     "metadata": {},
     "output_type": "execute_result"
    }
   ],
   "source": [
    "df.columns"
   ]
  },
  {
   "cell_type": "code",
   "execution_count": 18,
   "metadata": {},
   "outputs": [
    {
     "name": "stdout",
     "output_type": "stream",
     "text": [
      "CPU times: user 44.3 ms, sys: 855 µs, total: 45.2 ms\n",
      "Wall time: 59.5 ms\n"
     ]
    },
    {
     "data": {
      "text/html": [
       "<div>\n",
       "<style scoped>\n",
       "    .dataframe tbody tr th:only-of-type {\n",
       "        vertical-align: middle;\n",
       "    }\n",
       "\n",
       "    .dataframe tbody tr th {\n",
       "        vertical-align: top;\n",
       "    }\n",
       "\n",
       "    .dataframe thead th {\n",
       "        text-align: right;\n",
       "    }\n",
       "</style>\n",
       "<table border=\"1\" class=\"dataframe\">\n",
       "  <thead>\n",
       "    <tr style=\"text-align: right;\">\n",
       "      <th></th>\n",
       "      <th>uid</th>\n",
       "      <th>eno</th>\n",
       "      <th>siteid</th>\n",
       "      <th>state</th>\n",
       "      <th>country</th>\n",
       "      <th>geogarea</th>\n",
       "      <th>locdesc</th>\n",
       "      <th>hmapno</th>\n",
       "      <th>qmapid</th>\n",
       "      <th>easting</th>\n",
       "      <th>...</th>\n",
       "      <th>Th</th>\n",
       "      <th>Ti</th>\n",
       "      <th>Tm</th>\n",
       "      <th>U</th>\n",
       "      <th>V</th>\n",
       "      <th>W</th>\n",
       "      <th>Y</th>\n",
       "      <th>Yb</th>\n",
       "      <th>Zn</th>\n",
       "      <th>Zr</th>\n",
       "    </tr>\n",
       "  </thead>\n",
       "  <tbody>\n",
       "    <tr>\n",
       "      <th>19</th>\n",
       "      <td>22073</td>\n",
       "      <td>85421</td>\n",
       "      <td>68590046</td>\n",
       "      <td>QLD</td>\n",
       "      <td>Australia</td>\n",
       "      <td>Coastal Ranges Igneous Province: Hodgkinson re...</td>\n",
       "      <td>Simpson Point on Cook Highway, 11km N of Kuranda</td>\n",
       "      <td>8064.0</td>\n",
       "      <td>SE5502</td>\n",
       "      <td>355845.667</td>\n",
       "      <td>...</td>\n",
       "      <td>17.0</td>\n",
       "      <td>NaN</td>\n",
       "      <td>NaN</td>\n",
       "      <td>3.0</td>\n",
       "      <td>NaN</td>\n",
       "      <td>NaN</td>\n",
       "      <td>35.0</td>\n",
       "      <td>NaN</td>\n",
       "      <td>69.0</td>\n",
       "      <td>194.0</td>\n",
       "    </tr>\n",
       "  </tbody>\n",
       "</table>\n",
       "<p>1 rows × 113 columns</p>\n",
       "</div>"
      ],
      "text/plain": [
       "      uid    eno    siteid state    country  \\\n",
       "19  22073  85421  68590046   QLD  Australia   \n",
       "\n",
       "                                             geogarea  \\\n",
       "19  Coastal Ranges Igneous Province: Hodgkinson re...   \n",
       "\n",
       "                                             locdesc  hmapno  qmapid  \\\n",
       "19  Simpson Point on Cook Highway, 11km N of Kuranda  8064.0  SE5502   \n",
       "\n",
       "       easting  ...    Th  Ti  Tm    U   V   W     Y  Yb    Zn     Zr  \n",
       "19  355845.667  ...  17.0 NaN NaN  3.0 NaN NaN  35.0 NaN  69.0  194.0  \n",
       "\n",
       "[1 rows x 113 columns]"
      ]
     },
     "execution_count": 18,
     "metadata": {},
     "output_type": "execute_result"
    }
   ],
   "source": [
    "%time df[df.sampleid == '68590046'].compute()"
   ]
  },
  {
   "cell_type": "markdown",
   "metadata": {},
   "source": [
    "If you look at the resulting graph, you can see that dask was able to optimize the computation to only look at a single partition."
   ]
  },
  {
   "cell_type": "markdown",
   "metadata": {},
   "source": [
    "<div class=\"alert alert-warning\">\n",
    "<b>NOTE:</b> Another useful application of setting index for performance opertimisation is shuffling the data using the date as the index. </div>\n"
   ]
  },
  {
   "cell_type": "code",
   "execution_count": 19,
   "metadata": {},
   "outputs": [],
   "source": [
    "# clean up, when finished with the notebook\n",
    "client.close()"
   ]
  },
  {
   "cell_type": "code",
   "execution_count": null,
   "metadata": {},
   "outputs": [],
   "source": []
  }
 ],
 "metadata": {
  "kernelspec": {
   "display_name": "Python 3 (ipykernel)",
   "language": "python",
   "name": "python3"
  },
  "language_info": {
   "codemirror_mode": {
    "name": "ipython",
    "version": 3
   },
   "file_extension": ".py",
   "mimetype": "text/x-python",
   "name": "python",
   "nbconvert_exporter": "python",
   "pygments_lexer": "ipython3",
   "version": "3.9.12"
  }
 },
 "nbformat": 4,
 "nbformat_minor": 4
}
